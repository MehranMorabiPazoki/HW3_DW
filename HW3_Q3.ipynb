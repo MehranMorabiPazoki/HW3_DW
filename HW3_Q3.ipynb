{
 "cells": [
  {
   "cell_type": "code",
   "execution_count": 1,
   "metadata": {},
   "outputs": [
    {
     "name": "stdout",
     "output_type": "stream",
     "text": [
      "23/01/18 21:53:01 WARN Utils: Your hostname, diablo resolves to a loopback address: 127.0.1.1; using 192.168.1.105 instead (on interface wlp3s0)\n",
      "23/01/18 21:53:01 WARN Utils: Set SPARK_LOCAL_IP if you need to bind to another address\n"
     ]
    },
    {
     "name": "stderr",
     "output_type": "stream",
     "text": [
      "Setting default log level to \"WARN\".\n",
      "To adjust logging level use sc.setLogLevel(newLevel). For SparkR, use setLogLevel(newLevel).\n"
     ]
    },
    {
     "name": "stdout",
     "output_type": "stream",
     "text": [
      "23/01/18 21:53:02 WARN NativeCodeLoader: Unable to load native-hadoop library for your platform... using builtin-java classes where applicable\n"
     ]
    }
   ],
   "source": [
    "from pyspark import SparkContext, SparkConf \n",
    "from pyspark.sql import SparkSession\n",
    "import numpy as np\n",
    "import math\n",
    "spark = SparkSession \\\n",
    "    .builder \\\n",
    "    .appName(\"Fava_Project\") \\\n",
    "    .master(\"local[4]\") \\\n",
    "    .getOrCreate()\n",
    "sc=spark.sparkContext"
   ]
  },
  {
   "cell_type": "code",
   "execution_count": 2,
   "metadata": {},
   "outputs": [
    {
     "name": "stdout",
     "output_type": "stream",
     "text": [
      "+-----------+---------+---------------+-------------+----------------+----------+-------------------+\n",
      "|DEVICE_CODE|SYSTEM_ID|ORIGINE_CAR_KEY|FINAL_CAR_KEY|CHECK_STATUS_KEY|COMPANY_ID|      PASS_DAY_TIME|\n",
      "+-----------+---------+---------------+-------------+----------------+----------+-------------------+\n",
      "|   22010122|      284|       97955760|     64111706|               7|       161|2022-01-10 08:58:02|\n",
      "+-----------+---------+---------------+-------------+----------------+----------+-------------------+\n",
      "only showing top 1 row\n",
      "\n"
     ]
    }
   ],
   "source": [
    "df=spark.read.csv('TrafficData.csv',header=True) # Sample_Traffic.csv Traffic.csv\n",
    "df.show(1)"
   ]
  },
  {
   "cell_type": "code",
   "execution_count": 3,
   "metadata": {},
   "outputs": [
    {
     "name": "stderr",
     "output_type": "stream",
     "text": [
      "                                                                                \r"
     ]
    },
    {
     "data": {
      "text/plain": [
       "[Row(to_date(PASS_DAY_TIME)=datetime.date(2022, 1, 9)),\n",
       " Row(to_date(PASS_DAY_TIME)=datetime.date(2022, 1, 10)),\n",
       " Row(to_date(PASS_DAY_TIME)=datetime.date(2022, 1, 8)),\n",
       " Row(to_date(PASS_DAY_TIME)=datetime.date(2022, 1, 13)),\n",
       " Row(to_date(PASS_DAY_TIME)=datetime.date(2022, 1, 14)),\n",
       " Row(to_date(PASS_DAY_TIME)=datetime.date(2022, 1, 12)),\n",
       " Row(to_date(PASS_DAY_TIME)=datetime.date(2022, 1, 11))]"
      ]
     },
     "execution_count": 3,
     "metadata": {},
     "output_type": "execute_result"
    }
   ],
   "source": [
    "import pandas as pd\n",
    "from pyspark.sql.functions import col,current_timestamp,to_date,hour,dayofweek\n",
    "from datetime import datetime\n",
    "\n",
    "df.select(to_date(col('PASS_DAY_TIME'))).distinct().collect()"
   ]
  },
  {
   "attachments": {},
   "cell_type": "markdown",
   "metadata": {},
   "source": [
    "# **الف**"
   ]
  },
  {
   "cell_type": "code",
   "execution_count": 4,
   "metadata": {},
   "outputs": [
    {
     "name": "stderr",
     "output_type": "stream",
     "text": [
      "                                                                                \r"
     ]
    }
   ],
   "source": [
    "device_rdd=df.select('DEVICE_CODE').rdd\n",
    "DEVICE_CODE_index_rdd=device_rdd.distinct().map(lambda x:x.asDict()['DEVICE_CODE']).zipWithIndex()#.map(lambda x:{x[0]:x[1]}).collect()\n",
    "DEVICE_CODE_index=sc.broadcast(dict(DEVICE_CODE_index_rdd.map(lambda x:(x[0],x[1])).collect()))\n",
    "index_DEVICE_CODE=sc.broadcast(dict(DEVICE_CODE_index_rdd.map(lambda x:(x[1],x[0])).collect()))"
   ]
  },
  {
   "cell_type": "code",
   "execution_count": 5,
   "metadata": {},
   "outputs": [
    {
     "name": "stderr",
     "output_type": "stream",
     "text": [
      "                                                                                \r"
     ]
    }
   ],
   "source": [
    "header=sc.textFile(\"TrafficData.csv\").first()\n",
    "\n",
    "RDD=sc.textFile(\"TrafficData.csv\").filter(lambda l :not str(l).startswith(header))\n",
    "\n",
    "Traffic_RDD=RDD.map(lambda x:x.split(',')).map(lambda x:((int(x[2]),int(\"\".join(x[-1].split()[0].split('-')))),DEVICE_CODE_index.value[x[0]])).groupByKey().mapValues(lambda x:list(set(x)))"
   ]
  },
  {
   "cell_type": "code",
   "execution_count": 6,
   "metadata": {},
   "outputs": [],
   "source": [
    "selectedCamera=[['900120'],\n",
    " ['900214'],\n",
    " ['900212'],\n",
    " ['900101'],\n",
    " ['900244'],\n",
    " ['900142']]"
   ]
  },
  {
   "attachments": {},
   "cell_type": "markdown",
   "metadata": {},
   "source": [
    "# **ب**"
   ]
  },
  {
   "cell_type": "code",
   "execution_count": 7,
   "metadata": {},
   "outputs": [],
   "source": [
    "\n",
    "Hypothetica_path=list(map(lambda x:DEVICE_CODE_index.value[x[0]],selectedCamera))\n",
    "Hypothetica_path=sc.broadcast(Hypothetica_path)"
   ]
  },
  {
   "cell_type": "code",
   "execution_count": 8,
   "metadata": {},
   "outputs": [],
   "source": [
    "\n",
    "def cosineDistance(x):\n",
    "    abs_x=len(x[1])**0.5\n",
    "    abs_H=len(Hypothetica_path.value)**0.5\n",
    "    dot_operator=len(list(set(x[1]) & set(Hypothetica_path.value)))\n",
    "    theta=math.acos(dot_operator/(abs_x*abs_H))\n",
    "    sim=1-theta/math.pi\n",
    "    return (x[0],x[1],sim)\n"
   ]
  },
  {
   "cell_type": "code",
   "execution_count": 9,
   "metadata": {},
   "outputs": [
    {
     "name": "stderr",
     "output_type": "stream",
     "text": [
      "                                                                                \r"
     ]
    },
    {
     "data": {
      "text/plain": [
       "[((9815266, 20220108), [1, 803, 227, 44, 532, 729], 0.8135705013226627),\n",
       " ((52566321, 20220113), [1, 227, 803, 532, 88, 729], 0.8135705013226627),\n",
       " ((19423926, 20220108), [1, 803, 532, 729], 0.8040867239846964),\n",
       " ((8007880, 20220108), [1, 227, 532, 803], 0.8040867239846964),\n",
       " ((76136178, 20220110), [1, 803, 729, 227], 0.8040867239846964),\n",
       " ((20268928, 20220110), [1, 227, 532, 803], 0.8040867239846964),\n",
       " ((14474545, 20220111), [729, 803, 1, 227], 0.8040867239846964),\n",
       " ((10753850, 20220112), [1, 803, 532, 227], 0.8040867239846964),\n",
       " ((8720813, 20220113), [803, 227, 532, 1], 0.8040867239846964),\n",
       " ((88514534, 20220112), [729, 803, 1, 227], 0.8040867239846964)]"
      ]
     },
     "execution_count": 9,
     "metadata": {},
     "output_type": "execute_result"
    }
   ],
   "source": [
    "Traffic_RDD.map(cosineDistance).top(num=10,key=lambda x:x[2])"
   ]
  },
  {
   "cell_type": "code",
   "execution_count": 10,
   "metadata": {},
   "outputs": [
    {
     "name": "stderr",
     "output_type": "stream",
     "text": [
      "[Stage 17:======================================================> (53 + 1) / 54]\r"
     ]
    },
    {
     "name": "stdout",
     "output_type": "stream",
     "text": [
      "Number of  true similar vehicle beyond threshold is :  52551\n",
      "Number of  true non similar vehicle less than threshold is :  12337108\n"
     ]
    },
    {
     "name": "stderr",
     "output_type": "stream",
     "text": [
      "                                                                                \r"
     ]
    }
   ],
   "source": [
    "true_similar_count=Traffic_RDD.map(cosineDistance).filter(lambda x:x[2]>=0.7).count()\n",
    "true_non_similar_count=Traffic_RDD.map(cosineDistance).filter(lambda x:x[2]<0.7).count()\n",
    "print(\"Number of  true similar vehicle beyond threshold is : \",true_similar_count)\n",
    "print(\"Number of  true non similar vehicle less than threshold is : \",true_non_similar_count)"
   ]
  },
  {
   "attachments": {},
   "cell_type": "markdown",
   "metadata": {},
   "source": [
    "# **ج**"
   ]
  },
  {
   "attachments": {},
   "cell_type": "markdown",
   "metadata": {},
   "source": [
    "## Result 100 Hash function 6 and then 12 OR"
   ]
  },
  {
   "attachments": {},
   "cell_type": "markdown",
   "metadata": {},
   "source": [
    "### Random Hyperplane"
   ]
  },
  {
   "cell_type": "code",
   "execution_count": 11,
   "metadata": {},
   "outputs": [],
   "source": [
    "# Hash Function \n",
    "totalSignatureLength=6*12\n",
    "Band_num=12\n",
    "Row=int(totalSignatureLength/Band_num)\n",
    "total_shingles_num=len(DEVICE_CODE_index.value.keys())\n",
    "\n",
    "np.random.seed(101)\n",
    "H=sc.broadcast(2*np.random.randint(0,2,size=(totalSignatureLength,total_shingles_num),dtype='int8',)-1)\n",
    "\n",
    "\n",
    "\n",
    "\n",
    "\n",
    "Hypothetica_path=list(map(lambda x:DEVICE_CODE_index.value[x[0]],selectedCamera))\n",
    "Hypothetica_path=sc.broadcast(Hypothetica_path)"
   ]
  },
  {
   "attachments": {},
   "cell_type": "markdown",
   "metadata": {},
   "source": [
    "### Used Functions"
   ]
  },
  {
   "cell_type": "code",
   "execution_count": 12,
   "metadata": {},
   "outputs": [],
   "source": [
    "def sketch(x):\n",
    "    S=np.sign(np.sum(H.value[:,x[1]],axis=1)).reshape(Band_num,Row)\n",
    "    O=[]\n",
    "    for i in range(Band_num):\n",
    "        O.append(((i,hash(S[i,:])),x))\n",
    "    return O\n",
    "def hash(x):\n",
    "    x[x==-1]=0\n",
    "    h=0\n",
    "    for i in range(len(x)):\n",
    "        h+=2**(i)*x[i]\n",
    "    return h\n",
    "def to_list(a):\n",
    "    return [a]\n",
    "\n",
    "def append(a, b):\n",
    "    a.append(b)\n",
    "    return a\n",
    "\n",
    "def extend(a, b):\n",
    "    a.extend(b)\n",
    "    return a\n",
    "\n",
    "\n",
    "def cosineDistance(x):\n",
    "    abs_x=len(x[1])**0.5\n",
    "    abs_H=len(Hypothetica_path.value)**0.5\n",
    "    dot_operator=len(list(set(x[1]) & set(Hypothetica_path.value)))\n",
    "    theta=math.acos(dot_operator/(abs_x*abs_H))\n",
    "    sim=1-theta/math.pi\n",
    "    return (x[0],x[1],sim)"
   ]
  },
  {
   "attachments": {},
   "cell_type": "markdown",
   "metadata": {},
   "source": [
    "### Run LSH Algorithm"
   ]
  },
  {
   "cell_type": "code",
   "execution_count": 13,
   "metadata": {},
   "outputs": [],
   "source": [
    "Query_bucket=sketch(('Query',Hypothetica_path.value))\n",
    "Query_bucket=sc.broadcast(list(map(lambda x:tuple(x),np.array(Query_bucket,dtype=object)[:,0].tolist())))\n",
    "\n",
    "similarVehiclesRDD=Traffic_RDD.flatMap(sketch).filter(lambda x:x[0] in Query_bucket.value).map(lambda x: x[1]).map(cosineDistance)\n"
   ]
  },
  {
   "cell_type": "code",
   "execution_count": 14,
   "metadata": {},
   "outputs": [
    {
     "name": "stderr",
     "output_type": "stream",
     "text": [
      "                                                                                \r"
     ]
    },
    {
     "data": {
      "text/plain": [
       "[((9815266, 20220108), (1, 803, 227, 44, 532, 729), 0.8135705013226627),\n",
       " ((52566321, 20220113), (1, 227, 803, 532, 88, 729), 0.8135705013226627),\n",
       " ((86372717, 20220113), (729, 803, 532, 1), 0.8040867239846964),\n",
       " ((7635855, 20220114), (729, 227, 1, 803), 0.8040867239846964),\n",
       " ((85096101, 20220113), (1, 227, 532, 803), 0.8040867239846964),\n",
       " ((10208309, 20220109), (1, 227, 532, 803), 0.8040867239846964),\n",
       " ((8409377, 20220113), (1, 803, 532, 227), 0.8040867239846964),\n",
       " ((8581829, 20220111), (1, 803, 532, 227), 0.8040867239846964),\n",
       " ((8253951, 20220113), (1, 803, 532, 227), 0.8040867239846964),\n",
       " ((10877013, 20220114), (729, 803, 1, 227), 0.8040867239846964)]"
      ]
     },
     "execution_count": 14,
     "metadata": {},
     "output_type": "execute_result"
    }
   ],
   "source": [
    "similarVehiclesRDD.filter(lambda x:x[2]>=0.7).map(lambda x: (x[0],tuple(x[1]),x[2])).distinct().top(num=10,key=lambda x:x[2])\n"
   ]
  },
  {
   "cell_type": "code",
   "execution_count": 15,
   "metadata": {},
   "outputs": [
    {
     "name": "stderr",
     "output_type": "stream",
     "text": [
      "                                                                                \r"
     ]
    }
   ],
   "source": [
    "true_similar_count=similarVehiclesRDD.filter(lambda x:x[2]>=0.7).map(lambda x: x[0]).distinct().count()\n",
    "true_non_similar_count=similarVehiclesRDD.filter(lambda x:x[2]<0.7).map(lambda x: x[0]).distinct().count()\n"
   ]
  },
  {
   "cell_type": "code",
   "execution_count": 16,
   "metadata": {},
   "outputs": [
    {
     "name": "stdout",
     "output_type": "stream",
     "text": [
      "Result for 6 And then 12 OR 72 Hash in total\n",
      "Number of  true similar vehicle beyond threshold is :  50103\n",
      "Number of  true non similar vehicle less than threshold is :  2949285\n"
     ]
    }
   ],
   "source": [
    "print(\"Result for 6 And then 12 OR 72 Hash in total\")\n",
    "print(\"Number of  true similar vehicle beyond threshold is : \",true_similar_count)\n",
    "print(\"Number of  true non similar vehicle less than threshold is : \",true_non_similar_count)"
   ]
  },
  {
   "attachments": {},
   "cell_type": "markdown",
   "metadata": {},
   "source": [
    "## Result 64 Hash function 4 and then 8 OR"
   ]
  },
  {
   "attachments": {},
   "cell_type": "markdown",
   "metadata": {},
   "source": [
    "### Random Hyperplane"
   ]
  },
  {
   "cell_type": "code",
   "execution_count": 17,
   "metadata": {},
   "outputs": [],
   "source": [
    "# Hash Function \n",
    "totalSignatureLength=4*8\n",
    "Band_num=8\n",
    "Row=int(totalSignatureLength/Band_num)\n",
    "total_shingles_num=len(DEVICE_CODE_index.value.keys())\n",
    "\n",
    "np.random.seed(101)\n",
    "H=sc.broadcast(2*np.random.randint(0,2,size=(totalSignatureLength,total_shingles_num),dtype='int8',)-1)\n",
    "\n",
    "\n",
    "\n",
    "\n",
    "\n",
    "Hypothetica_path=list(map(lambda x:DEVICE_CODE_index.value[x[0]],selectedCamera))\n",
    "Hypothetica_path=sc.broadcast(Hypothetica_path)"
   ]
  },
  {
   "attachments": {},
   "cell_type": "markdown",
   "metadata": {},
   "source": [
    "### Used Functions"
   ]
  },
  {
   "cell_type": "code",
   "execution_count": 18,
   "metadata": {},
   "outputs": [],
   "source": [
    "\n",
    "def sketch(x):\n",
    "    S=np.sign(np.sum(H.value[:,x[1]],axis=1)).reshape(Band_num,Row)\n",
    "    O=[]\n",
    "    for i in range(Band_num):\n",
    "        O.append(((i,hash(S[i,:])),x))\n",
    "    return O\n",
    "def hash(x):\n",
    "    x[x==-1]=0\n",
    "    h=0\n",
    "    for i in range(len(x)):\n",
    "        h+=2**(i)*x[i]\n",
    "    return h\n",
    "def to_list(a):\n",
    "    return [a]\n",
    "\n",
    "def append(a, b):\n",
    "    a.append(b)\n",
    "    return a\n",
    "\n",
    "def extend(a, b):\n",
    "    a.extend(b)\n",
    "    return a\n",
    "\n",
    "\n",
    "def cosineDistance(x):\n",
    "    abs_x=len(x[1])**0.5\n",
    "    abs_H=len(Hypothetica_path.value)**0.5\n",
    "    dot_operator=len(list(set(x[1]) & set(Hypothetica_path.value)))\n",
    "    theta=math.acos(dot_operator/(abs_x*abs_H))\n",
    "    sim=1-theta/math.pi\n",
    "    return (x[0],x[1],sim)"
   ]
  },
  {
   "attachments": {},
   "cell_type": "markdown",
   "metadata": {},
   "source": [
    "### Run LSH Algorithm"
   ]
  },
  {
   "cell_type": "code",
   "execution_count": 19,
   "metadata": {},
   "outputs": [],
   "source": [
    "\n",
    "Query_bucket=sketch(('Query',Hypothetica_path.value))\n",
    "Query_bucket=sc.broadcast(list(map(lambda x:tuple(x),np.array(Query_bucket,dtype=object)[:,0].tolist())))\n",
    "   \n",
    "similarVehiclesRDD=Traffic_RDD.flatMap(sketch).filter(lambda x:x[0] in Query_bucket.value).map(lambda x: x[1]).map(cosineDistance)\n",
    "\n",
    "\n"
   ]
  },
  {
   "cell_type": "code",
   "execution_count": 20,
   "metadata": {},
   "outputs": [
    {
     "name": "stderr",
     "output_type": "stream",
     "text": [
      "                                                                                \r"
     ]
    },
    {
     "data": {
      "text/plain": [
       "[((9815266, 20220108), (1, 803, 227, 44, 532, 729), 0.8135705013226627),\n",
       " ((52566321, 20220113), (1, 227, 803, 532, 88, 729), 0.8135705013226627),\n",
       " ((86372717, 20220113), (729, 803, 532, 1), 0.8040867239846964),\n",
       " ((7635855, 20220114), (729, 227, 1, 803), 0.8040867239846964),\n",
       " ((85096101, 20220113), (1, 227, 532, 803), 0.8040867239846964),\n",
       " ((10208309, 20220109), (1, 227, 532, 803), 0.8040867239846964),\n",
       " ((8409377, 20220113), (1, 803, 532, 227), 0.8040867239846964),\n",
       " ((8581829, 20220111), (1, 803, 532, 227), 0.8040867239846964),\n",
       " ((8253951, 20220113), (1, 803, 532, 227), 0.8040867239846964),\n",
       " ((10877013, 20220114), (729, 803, 1, 227), 0.8040867239846964)]"
      ]
     },
     "execution_count": 20,
     "metadata": {},
     "output_type": "execute_result"
    }
   ],
   "source": [
    "similarVehiclesRDD.filter(lambda x:x[2]>=0.7).map(lambda x: (x[0],tuple(x[1]),x[2])).distinct().top(num=10,key=lambda x:x[2])\n"
   ]
  },
  {
   "cell_type": "code",
   "execution_count": 21,
   "metadata": {},
   "outputs": [
    {
     "name": "stderr",
     "output_type": "stream",
     "text": [
      "                                                                                \r"
     ]
    }
   ],
   "source": [
    "true_similar_count=similarVehiclesRDD.filter(lambda x:x[2]>=0.7).map(lambda x: x[0]).distinct().count()\n",
    "true_non_similar_count=similarVehiclesRDD.filter(lambda x:x[2]<0.7).map(lambda x: x[0]).distinct().count()\n"
   ]
  },
  {
   "cell_type": "code",
   "execution_count": 22,
   "metadata": {},
   "outputs": [
    {
     "name": "stdout",
     "output_type": "stream",
     "text": [
      "Result for 4 And then 8 OR 32 Hash in total\n",
      "Number of  true similar vehicle beyond threshold is :  50698\n",
      "Number of  true non similar vehicle less than threshold is :  6724571\n"
     ]
    }
   ],
   "source": [
    "print(\"Result for 4 And then 8 OR 32 Hash in total\")\n",
    "print(\"Number of  true similar vehicle beyond threshold is : \",true_similar_count)\n",
    "print(\"Number of  true non similar vehicle less than threshold is : \",true_non_similar_count)"
   ]
  },
  {
   "attachments": {},
   "cell_type": "markdown",
   "metadata": {},
   "source": [
    "## comparison of two methods"
   ]
  },
  {
   "cell_type": "code",
   "execution_count": 24,
   "metadata": {},
   "outputs": [
    {
     "data": {
      "image/png": "[encoded data removed]",
      "text/plain": [
       "<Figure size 500x500 with 1 Axes>"
      ]
     },
     "metadata": {},
     "output_type": "display_data"
    }
   ],
   "source": [
    "import matplotlib.pyplot as plt\n",
    "x=np.linspace(start=0,stop=1.0,num=100)\n",
    "y1=1-(1-x**6)**12\n",
    "y2=1-(1-x**4)**8\n",
    "plt.figure(figsize=(5,5))\n",
    "\n",
    "plt.plot(x,y1)\n",
    "plt.plot(x,y2)\n",
    "plt.plot([0.7,0.7],[0,1])\n",
    "plt.legend([\"6 and 12 or 72 Hash\",\"4 and 8 or 32 Hash\",\"similarity threshold = 0.7\"])\n",
    "\n",
    "plt.xlabel('similarity')\n",
    "plt.ylabel('probability of similarity')\n",
    "_=plt.title('comparison of two methods with different Hash numbers in cosine distance LSH')"
   ]
  }
 ],
 "metadata": {
  "kernelspec": {
   "display_name": "Python 3",
   "language": "python",
   "name": "python3"
  },
  "language_info": {
   "codemirror_mode": {
    "name": "ipython",
    "version": 3
   },
   "file_extension": ".py",
   "mimetype": "text/x-python",
   "name": "python",
   "nbconvert_exporter": "python",
   "pygments_lexer": "ipython3",
   "version": "3.10.6"
  },
  "orig_nbformat": 4,
  "vscode": {
   "interpreter": {
    "hash": "916dbcbb3f70747c44a77c7bcd40155683ae19c65e1c03b4aa3499c5328201f1"
   }
  }
 },
 "nbformat": 4,
 "nbformat_minor": 2
}
